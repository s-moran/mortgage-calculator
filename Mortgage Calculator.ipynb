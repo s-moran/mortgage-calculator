{
 "cells": [
  {
   "cell_type": "markdown",
   "id": "2a21fd2b",
   "metadata": {},
   "source": [
    "# Mortgage Calculator\n",
    "\n",
    "Graphical interface using ipywidgets to calculate the evolution of principal and interest by varying interest rate, lump sum payment, compounding frequency, payment, and payment frequency. \n",
    "\n",
    "Useful for **variable rate** mortgages to determine what payment is needed to pay off principal over the amortization period provided that rates remain at their current level. If this is the case, use the 'term_start' variable to control when you actually started the loan so that the term and amortization period is correct.\n",
    "\n",
    "Note: For full freedom in adjusting payment frequency, need to use daily (D) compounding frequency. Default is month-start (MS) payments with MS interest compounding. \n"
   ]
  },
  {
   "cell_type": "code",
   "execution_count": 1,
   "id": "2ef2afb6",
   "metadata": {},
   "outputs": [],
   "source": [
    "import pandas as pd\n",
    "import numpy as np\n",
    "import matplotlib.pyplot as plt\n",
    "from datetime import date\n",
    "\n",
    "import ipywidgets as widgets\n",
    "from ipywidgets import FloatSlider, IntSlider\n",
    "\n",
    "from IPython.display import display\n",
    "\n",
    "%matplotlib inline"
   ]
  },
  {
   "cell_type": "code",
   "execution_count": 2,
   "id": "06d66bca",
   "metadata": {},
   "outputs": [
    {
     "data": {
      "text/plain": [
       "'7.6.5'"
      ]
     },
     "execution_count": 2,
     "metadata": {},
     "output_type": "execute_result"
    }
   ],
   "source": [
    "widgets.__version__"
   ]
  },
  {
   "cell_type": "code",
   "execution_count": 3,
   "id": "c9158a2a",
   "metadata": {},
   "outputs": [],
   "source": [
    "def monthly_to_daily(r):\n",
    "    return np.power(1 + r, 1/(365/12)) - 1"
   ]
  },
  {
   "cell_type": "code",
   "execution_count": 4,
   "id": "1bf059aa",
   "metadata": {},
   "outputs": [],
   "source": [
    "def setup_data(principal=100000, start=None, end=None, freq='d', payment=2000, payment_freq='MS', r=0.):\n",
    "    rng = pd.date_range(start, end, freq=freq)   \n",
    "    data = pd.DataFrame(np.nan, index=rng, columns=['principal', 'interest', 'payment', 'isum', 'ipayment', 'ppayment'])  \n",
    "    pymnt = data['payment'].asfreq(payment_freq)\n",
    "    pymnt[:] = payment\n",
    "    \n",
    "    data.loc[pymnt.index, 'payment'] = payment\n",
    "    data['payment'] = data['payment'].fillna(0)\n",
    "    \n",
    "    data.iloc[0] = [principal, 0, 0, 0, np.nan, np.nan]\n",
    "\n",
    "    return data"
   ]
  },
  {
   "cell_type": "code",
   "execution_count": 5,
   "id": "c5c9074f",
   "metadata": {},
   "outputs": [],
   "source": [
    "def iterate_principal(data, r=0., freq='MS'):\n",
    "    period_isum = 0\n",
    "    for i in range(1, len(data.index)):\n",
    "        dt = data.index[i]\n",
    "        x0 = data.iloc[i-1]\n",
    "        x1 = data.iloc[i]\n",
    "        \n",
    "        p0 = x0['principal']\n",
    "        pay = x1['payment']\n",
    "        interest = p0 * r\n",
    "        \n",
    "        data.loc[dt, 'principal'] = p0 + interest - pay\n",
    "        data.loc[dt, 'interest'] = interest\n",
    "        data.loc[dt, 'isum'] = x0['isum'] + interest\n",
    "        \n",
    "        period_isum += interest\n",
    "        \n",
    "        if pay > 0:\n",
    "            data.loc[dt, 'ipayment'] = period_isum\n",
    "            data.loc[dt, 'ppayment'] = pay - period_isum\n",
    "            period_isum = 0\n",
    "\n",
    "    return data"
   ]
  },
  {
   "cell_type": "code",
   "execution_count": 6,
   "id": "fbf56744",
   "metadata": {},
   "outputs": [],
   "source": [
    "import matplotlib.ticker as ticker\n",
    "\n",
    "def dollarFormatter(scale=1000.):\n",
    "    @ticker.FuncFormatter\n",
    "    def wrap(x, pos):\n",
    "        x = x / scale\n",
    "\n",
    "        suffix = ''\n",
    "        if scale == 1000:\n",
    "            suffix = 'K'\n",
    "\n",
    "        return '${x:.0f}{suffix}'.format(x=x, suffix=suffix)\n",
    "    return wrap"
   ]
  },
  {
   "cell_type": "code",
   "execution_count": 7,
   "id": "55b5423f",
   "metadata": {
    "scrolled": false
   },
   "outputs": [
    {
     "data": {
      "application/vnd.jupyter.widget-view+json": {
       "model_id": "5284392443db4468b63f109f47dcaefc",
       "version_major": 2,
       "version_minor": 0
      },
      "text/plain": [
       "interactive(children=(FloatSlider(value=0.0, continuous_update=False, description='lump_sum', max=100000.0, st…"
      ]
     },
     "metadata": {},
     "output_type": "display_data"
    }
   ],
   "source": [
    "@widgets.interact(\n",
    "    payment=FloatSlider(min=0, max=5e3, step=1e-1, value=2000, continuous_update=False),\n",
    "    principal=FloatSlider(min=100000, max=600000, step=1, value=500000, continuous_update=False),\n",
    "    annual_rate=FloatSlider(min=0, max=10, step=1e-1, value=1.5, continuous_update=False),\n",
    "    lump_sum=FloatSlider(min=0, max=100000, step=1, value=0, continuous_update=False),\n",
    "    term=IntSlider(min=1, max=10, value=5, continuous_update=False),\n",
    "    amort=IntSlider(min=1, max=40, value=25, continuous_update=False),\n",
    ")\n",
    "def run(lump_sum=0, principal=500000, annual_rate=1.5, start=date.today().strftime('%Y-%m-%d'), term=5, \n",
    "        amort=25, payment=2000, payment_freq='MS', term_start='2021-08-01', compound_freq='MS'):\n",
    "    # Output result to global var\n",
    "    global data\n",
    "    \n",
    "    # Rate usually quoted as the annualized monthly rate,\n",
    "    # e.g. i.e. monthly rate multiplied by 12\n",
    "    rate = annual_rate / 12 / 100\n",
    "    \n",
    "    if compound_freq not in ['MS', 'D']:\n",
    "        raise Exception('Only MS (month-start) D (daily) frequency supported.')\n",
    "    \n",
    "    if compound_freq == 'D':\n",
    "        rate = monthly_to_daily(rate)\n",
    "    \n",
    "    p = principal - lump_sum\n",
    "    \n",
    "    start = pd.to_datetime(start)\n",
    "    term_start = pd.to_datetime(term_start)\n",
    "    \n",
    "    term_end = term_start + pd.DateOffset(years=term)\n",
    "    amort_end = term_start + pd.DateOffset(years=amort)\n",
    "    \n",
    "    # Setup\n",
    "    data = setup_data(principal=p, start=start, end=amort_end, \n",
    "                      freq=compound_freq.upper(), payment=payment, payment_freq=payment_freq)\n",
    "    \n",
    "    # Iterate\n",
    "    data = iterate_principal(data, r=rate, freq=payment_freq)\n",
    "    \n",
    "    # Plots\n",
    "    fig, axes = plt.subplots(2, 2, figsize=(8,6))\n",
    "    ax = axes.flatten()\n",
    "    fig.subplots_adjust(wspace=0.3)\n",
    "\n",
    "    # Plot principal over time\n",
    "    data['principal'].plot(ax=ax[0], label='Principal')\n",
    "    ax[0].axvline(term_end, ls='--', label='Term End', lw=0.5)\n",
    "    ax[0].axhline(principal, color='r', ls='--', lw=0.5)\n",
    "    ax[0].axhline(0, color='g', ls='--', lw=0.5)\n",
    "    ax[0].yaxis.set_major_formatter(dollarFormatter(scale=1000))\n",
    "    ax[0].legend()\n",
    "    \n",
    "    # Plot total interest over time\n",
    "    data['isum'].plot(ax=ax[1], label='Total Interest')\n",
    "    ax[1].axvline(term_end, ls='--', label='Term End', lw=0.5)\n",
    "    ax[1].axhline(principal, color='r', ls='--', lw=0.5)\n",
    "    ax[1].axhline(0, color='g', ls='--', lw=0.5)\n",
    "    ax[1].yaxis.set_major_formatter(dollarFormatter(scale=1000))\n",
    "    ax[1].legend()\n",
    "    \n",
    "    # Plot principal paid per period\n",
    "    data['ppayment'].dropna().plot(ax=ax[2], label='Principal Payment')\n",
    "    ax[2].axvline(term_end, ls='--', label='Term End', lw=0.5)\n",
    "    ax[2].axhline(payment, color='g', ls='--', lw=0.5)\n",
    "    ax[2].axhline(0, color='r', ls='--', lw=0.5)\n",
    "    ax[2].yaxis.set_major_formatter(dollarFormatter(scale=1))\n",
    "    ax[2].legend()\n",
    "    \n",
    "    data['ipayment'].dropna().plot(ax=ax[3], label='Interest Payment')\n",
    "    ax[3].axhline(payment, ls='--', color='r', lw=0.5)\n",
    "    ax[3].axvline(term_end, ls='--', label='Term End', lw=0.5)\n",
    "    ax[3].axhline(0, color='g', ls='--', lw=0.5)\n",
    "    ax[3].yaxis.set_major_formatter(dollarFormatter(scale=1))\n",
    "    ax[3].legend()\n",
    "    \n",
    "    plt.show()\n",
    "    \n",
    "    display(data.head())\n",
    "    display(data.tail())"
   ]
  }
 ],
 "metadata": {
  "kernelspec": {
   "display_name": "Python 3 (ipykernel)",
   "language": "python",
   "name": "python3"
  },
  "language_info": {
   "codemirror_mode": {
    "name": "ipython",
    "version": 3
   },
   "file_extension": ".py",
   "mimetype": "text/x-python",
   "name": "python",
   "nbconvert_exporter": "python",
   "pygments_lexer": "ipython3",
   "version": "3.9.12"
  }
 },
 "nbformat": 4,
 "nbformat_minor": 5
}
